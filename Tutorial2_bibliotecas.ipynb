{
  "nbformat": 4,
  "nbformat_minor": 0,
  "metadata": {
    "kernelspec": {
      "display_name": "Python 3",
      "language": "python",
      "name": "python3"
    },
    "language_info": {
      "codemirror_mode": {
        "name": "ipython",
        "version": 3
      },
      "file_extension": ".py",
      "mimetype": "text/x-python",
      "name": "python",
      "nbconvert_exporter": "python",
      "pygments_lexer": "ipython3",
      "version": "3.6.8"
    },
    "colab": {
      "name": "Tutorial2_bibliotecas.ipynb",
      "provenance": [],
      "collapsed_sections": []
    }
  },
  "cells": [
    {
      "cell_type": "markdown",
      "metadata": {
        "id": "jmTsycMcdh80"
      },
      "source": [
        "\n",
        "# Interactive Notebooks Tutorial\n",
        "\n",
        "Bienvenido a Google Colab Notebook, un entorno de ciencia de datos ☁️ totalmente en línea basado en la nube. Todo tu trabajo, análisis y conjuntos de datos organizados en un mismo lugar 🙌.\n"
      ]
    },
    {
      "cell_type": "markdown",
      "metadata": {
        "id": "65ifxxPddh8_"
      },
      "source": [
        "### Objectivo de este tutorial:\n",
        "\n",
        "> **Introducirte a las bibliotecas de Python usando un google collaboratory notebook.**\n",
        "\n",
        "Google Colab incluye todas las bibliotecas de ciencia de datos y aprendizaje profundo más populares ya instaladas. E incluso si falta uno, siempre puede instalarlo en su propio entorno (más sobre eso más adelante). "
      ]
    },
    {
      "cell_type": "markdown",
      "metadata": {
        "id": "YlrG4MI-dh9F"
      },
      "source": [
        "## Parte 1: Biblioteca Numpy\n",
        "\n",
        "Los cuadernos de Jupyter tienen características sorprendentes para incluir texto y crear documentos hermosos y legibles por humanos como ven Pero su principal beneficio es trabajar con código. Ahora vamos a importar algunas bibliotecas y empezar a experimentar con el código Python. Ya hemos hecho el simple `x + x2` antes, así que hagamos algo un poco más interesante. Primero, necesitamos importar la biblioteca `numpy`:"
      ]
    },
    {
      "cell_type": "markdown",
      "metadata": {
        "id": "ZBi4xyrgdh9G"
      },
      "source": [
        "\n",
        "* `numpy` la biblioteca de Python más popular para la manipulación de matrices y la computación numérica."
      ]
    },
    {
      "cell_type": "code",
      "metadata": {
        "id": "ElRseSTKdh9F"
      },
      "source": [
        "import numpy as np"
      ],
      "execution_count": 36,
      "outputs": []
    },
    {
      "cell_type": "markdown",
      "metadata": {
        "id": "Kf7xcAzNdfFT"
      },
      "source": [
        "Numpy nos ayuda a crear matrices. \n",
        "\n",
        "Una matriz numpy es una cuadrícula de valores, todos del mismo tipo, y está indexada por una tupla de numeros enteros no negativos. \n",
        "\n",
        "Podemos inicializar matrices numpy desde listas de Python y acceder a elementos usando brackets []:"
      ]
    },
    {
      "cell_type": "code",
      "metadata": {
        "colab": {
          "base_uri": "https://localhost:8080/"
        },
        "id": "rvKcTNqFdqkA",
        "outputId": "a06c428f-bdda-4b51-8cc6-4071ee7e32df"
      },
      "source": [
        "a = np.array([1, 2, 3])   # Crear una matriz\n",
        "print(type(a))            # Imprimir tipo de data \"<class 'numpy.ndarray'>\"\n",
        "print(a.shape)            # Imprime 3 \"(3,)\"\n",
        "print(a[0], a[1], a[2])   # Imprime \"1 2 3\"\n",
        "a[0] = 5                  # Cambiar solo un elemento de la matriz\n",
        "print(a)                  # Imprime  \"[5, 2, 3]\""
      ],
      "execution_count": 37,
      "outputs": [
        {
          "output_type": "stream",
          "text": [
            "<class 'numpy.ndarray'>\n",
            "(3,)\n",
            "1 2 3\n",
            "[5 2 3]\n"
          ],
          "name": "stdout"
        }
      ]
    },
    {
      "cell_type": "markdown",
      "metadata": {
        "id": "T2ni37cNeDZh"
      },
      "source": [
        "Numpy también proporciona muchas funciones para crear matrices. "
      ]
    },
    {
      "cell_type": "code",
      "metadata": {
        "colab": {
          "base_uri": "https://localhost:8080/"
        },
        "id": "mJUUXdl7ll7_",
        "outputId": "6c35e9f0-32c8-48ac-909d-b1662547343f"
      },
      "source": [
        "b=np.zeros(10)\n",
        "b"
      ],
      "execution_count": 38,
      "outputs": [
        {
          "output_type": "execute_result",
          "data": {
            "text/plain": [
              "array([0., 0., 0., 0., 0., 0., 0., 0., 0., 0.])"
            ]
          },
          "metadata": {
            "tags": []
          },
          "execution_count": 38
        }
      ]
    },
    {
      "cell_type": "code",
      "metadata": {
        "colab": {
          "base_uri": "https://localhost:8080/"
        },
        "id": "HhrK8RuolrmM",
        "outputId": "0a187b4b-a1ed-4b51-c014-185d217a7bb7"
      },
      "source": [
        "c=np.ones(10)\n",
        "c"
      ],
      "execution_count": 39,
      "outputs": [
        {
          "output_type": "execute_result",
          "data": {
            "text/plain": [
              "array([1., 1., 1., 1., 1., 1., 1., 1., 1., 1.])"
            ]
          },
          "metadata": {
            "tags": []
          },
          "execution_count": 39
        }
      ]
    },
    {
      "cell_type": "code",
      "metadata": {
        "id": "c-PvfLmCdh9G",
        "colab": {
          "base_uri": "https://localhost:8080/"
        },
        "outputId": "e7bd3055-08f4-45b8-9a64-5f9381a87d5b"
      },
      "source": [
        "x = np.linspace(0, 500, 10)\n",
        "y = np.linspace(0,1000,10)\n",
        "x"
      ],
      "execution_count": 40,
      "outputs": [
        {
          "output_type": "execute_result",
          "data": {
            "text/plain": [
              "array([  0.        ,  55.55555556, 111.11111111, 166.66666667,\n",
              "       222.22222222, 277.77777778, 333.33333333, 388.88888889,\n",
              "       444.44444444, 500.        ])"
            ]
          },
          "metadata": {
            "tags": []
          },
          "execution_count": 40
        }
      ]
    },
    {
      "cell_type": "code",
      "metadata": {
        "colab": {
          "base_uri": "https://localhost:8080/"
        },
        "id": "zFt7kgLTXi1e",
        "outputId": "070d4350-8ff2-468f-8c24-4690c4ea6e29"
      },
      "source": [
        "promedio=np.mean(x)\n",
        "promedio"
      ],
      "execution_count": 41,
      "outputs": [
        {
          "output_type": "execute_result",
          "data": {
            "text/plain": [
              "250.0"
            ]
          },
          "metadata": {
            "tags": []
          },
          "execution_count": 41
        }
      ]
    },
    {
      "cell_type": "code",
      "metadata": {
        "colab": {
          "base_uri": "https://localhost:8080/"
        },
        "id": "jYB4Kvo8XzWq",
        "outputId": "fb04284e-17ab-473c-d74b-ce7b74800db7"
      },
      "source": [
        "print(\"El promedio de x es \" + str(promedio))"
      ],
      "execution_count": 42,
      "outputs": [
        {
          "output_type": "stream",
          "text": [
            "El promedio de x es 250.0\n"
          ],
          "name": "stdout"
        }
      ]
    },
    {
      "cell_type": "code",
      "metadata": {
        "colab": {
          "base_uri": "https://localhost:8080/"
        },
        "id": "JB42mBCeX4wr",
        "outputId": "5aa4f365-c63a-477a-a2dc-65c416c88957"
      },
      "source": [
        "maximo=np.max(x)\n",
        "minimo=np.min(x)\n",
        "\n",
        "print(\"El valor maximo de x es \" + str(maximo) + \" y el valor minimo es \" + str(minimo))"
      ],
      "execution_count": 43,
      "outputs": [
        {
          "output_type": "stream",
          "text": [
            "El valor maximo de x es 500.0 y el valor minimo es 0.0\n"
          ],
          "name": "stdout"
        }
      ]
    },
    {
      "cell_type": "markdown",
      "metadata": {
        "id": "X1J3AgRZb-JY"
      },
      "source": [
        "##Parte 2: Biblioteca matplotlib \n",
        "\n",
        "Esta biblioteca nos ayuda a visualizar nuestra data.\n",
        "* `matplotlib` la biblioteca de visualización más popular en el ecosistema de Python.\n",
        "\n",
        "Pueden ver las funciones en su documentacion oficial: \n",
        "[link text](https://matplotlib.org/3.3.3/api/_as_gen/matplotlib.pyplot.html)"
      ]
    },
    {
      "cell_type": "code",
      "metadata": {
        "id": "QjjruGFTb7ZV"
      },
      "source": [
        "import matplotlib.pyplot as plt\n",
        "%matplotlib inline"
      ],
      "execution_count": null,
      "outputs": []
    },
    {
      "cell_type": "code",
      "metadata": {
        "id": "ZQF-SK_Sdh9G",
        "colab": {
          "base_uri": "https://localhost:8080/",
          "height": 445
        },
        "outputId": "2d92fe0b-b666-4474-a2eb-1bb31fb787b2"
      },
      "source": [
        "#Vamos a visualizar x y y utilizando la biblioteca matplotlib que importamos como plt\n",
        "\n",
        "plt.figure(figsize=(12, 7))\n",
        "plt.plot(x, y)"
      ],
      "execution_count": 44,
      "outputs": [
        {
          "output_type": "execute_result",
          "data": {
            "text/plain": [
              "[<matplotlib.lines.Line2D at 0x7fcadba525f8>]"
            ]
          },
          "metadata": {
            "tags": []
          },
          "execution_count": 44
        },
        {
          "output_type": "display_data",
          "data": {
            "image/png": "[encoded data removed]",
            "text/plain": [
              "<Figure size 864x504 with 1 Axes>"
            ]
          },
          "metadata": {
            "tags": [],
            "needs_background": "light"
          }
        }
      ]
    },
    {
      "cell_type": "code",
      "metadata": {
        "colab": {
          "base_uri": "https://localhost:8080/",
          "height": 459
        },
        "id": "rS9tqen0YULl",
        "outputId": "a9fe4c63-dec4-43b0-c7b8-084809fdbb01"
      },
      "source": [
        "#podemos crear la misma figura pero en vez de un line plot, hacemos un scatter plot y cambiamos los colores a rojo\n",
        "plt.figure(figsize=(12, 7))\n",
        "plt.scatter(x,y, c='red', s=55) \n",
        "plt.xlabel('Valores de la matriz x')\n",
        "plt.ylabel('Valores de la matriz y')"
      ],
      "execution_count": 45,
      "outputs": [
        {
          "output_type": "execute_result",
          "data": {
            "text/plain": [
              "Text(0, 0.5, 'Valores de la matriz y')"
            ]
          },
          "metadata": {
            "tags": []
          },
          "execution_count": 45
        },
        {
          "output_type": "display_data",
          "data": {
            "image/png": "[encoded data removed]",
            "text/plain": [
              "<Figure size 864x504 with 1 Axes>"
            ]
          },
          "metadata": {
            "tags": [],
            "needs_background": "light"
          }
        }
      ]
    },
    {
      "cell_type": "markdown",
      "metadata": {
        "id": "QZ94S-O4dh9H"
      },
      "source": [
        "\n",
        "## Parte 3: Biblioteca Pandas\n",
        "\n",
        "* `pandas` la biblioteca de manipulacion y analisis más popular en el ecosistema de Python."
      ]
    },
    {
      "cell_type": "code",
      "metadata": {
        "id": "tQyTKo3Odh9H"
      },
      "source": [
        "import pandas as pd"
      ],
      "execution_count": 46,
      "outputs": []
    },
    {
      "cell_type": "code",
      "metadata": {
        "id": "xGoVz2zGdh9H",
        "colab": {
          "base_uri": "https://localhost:8080/",
          "height": 204
        },
        "outputId": "f42456b5-7793-49ee-917f-537029d7a37f"
      },
      "source": [
        "#URL de nuestro Google Sheet:\n",
        "url='https://docs.google.com/spreadsheets/d/1hhFp68jSe3LeSlEy8SmUGKG4kVN3rseSpnyf1fuZgHs/edit#gid=0'\n",
        "\n",
        "#PUEDO ESCRIBIR LO QUE QUIERA ACA Y LA COMPUTADORA NO VA A EVALUAR ESTO\n",
        "\n",
        "#OJO. No es el mismo URL que el de \"compartir\" el google sheet\n",
        "#shared_url='https://docs.google.com/spreadsheets/d/1hhFp68jSe3LeSlEy8SmUGKG4kVN3rseSpnyf1fuZgHs/edit?usp=sharing'\n",
        "\n",
        "#el docID esta dentro del URL entre spreadsheets/d/..... y ..../edit#gid=xxxxxx\n",
        "docID = '1hhFp68jSe3LeSlEy8SmUGKG4kVN3rseSpnyf1fuZgHs'\n",
        "\n",
        "#el sheet ID esta despues del #gid=\n",
        "gID = '0' \n",
        "\n",
        "#Ahora leemos el google spreadsheet:\n",
        "df = pd.read_csv('https://docs.google.com/spreadsheets/d/' +\n",
        "                   docID +\n",
        "                   '/export?gid=' +\n",
        "                   gID + '&format=csv')\n",
        "\n",
        "#Ahora veamos las primeras cinco filas para asegurarnos de haberlo importado bien:\n",
        "df.head(5)\n"
      ],
      "execution_count": 47,
      "outputs": [
        {
          "output_type": "execute_result",
          "data": {
            "text/html": [
              "<div>\n",
              "<style scoped>\n",
              "    .dataframe tbody tr th:only-of-type {\n",
              "        vertical-align: middle;\n",
              "    }\n",
              "\n",
              "    .dataframe tbody tr th {\n",
              "        vertical-align: top;\n",
              "    }\n",
              "\n",
              "    .dataframe thead th {\n",
              "        text-align: right;\n",
              "    }\n",
              "</style>\n",
              "<table border=\"1\" class=\"dataframe\">\n",
              "  <thead>\n",
              "    <tr style=\"text-align: right;\">\n",
              "      <th></th>\n",
              "      <th>x</th>\n",
              "      <th>y</th>\n",
              "    </tr>\n",
              "  </thead>\n",
              "  <tbody>\n",
              "    <tr>\n",
              "      <th>0</th>\n",
              "      <td>0.0</td>\n",
              "      <td>0.00</td>\n",
              "    </tr>\n",
              "    <tr>\n",
              "      <th>1</th>\n",
              "      <td>5.0</td>\n",
              "      <td>125.00</td>\n",
              "    </tr>\n",
              "    <tr>\n",
              "      <th>2</th>\n",
              "      <td>10.0</td>\n",
              "      <td>1,000.00</td>\n",
              "    </tr>\n",
              "    <tr>\n",
              "      <th>3</th>\n",
              "      <td>15.0</td>\n",
              "      <td>3,375.00</td>\n",
              "    </tr>\n",
              "    <tr>\n",
              "      <th>4</th>\n",
              "      <td>20.0</td>\n",
              "      <td>8,000.00</td>\n",
              "    </tr>\n",
              "  </tbody>\n",
              "</table>\n",
              "</div>"
            ],
            "text/plain": [
              "      x         y\n",
              "0   0.0      0.00\n",
              "1   5.0    125.00\n",
              "2  10.0  1,000.00\n",
              "3  15.0  3,375.00\n",
              "4  20.0  8,000.00"
            ]
          },
          "metadata": {
            "tags": []
          },
          "execution_count": 47
        }
      ]
    },
    {
      "cell_type": "code",
      "metadata": {
        "id": "o7Kfa1RGTZU0",
        "colab": {
          "base_uri": "https://localhost:8080/"
        },
        "outputId": "05086916-0924-493c-8d8f-50f70735242e"
      },
      "source": [
        "x = df.x\n",
        "x\n"
      ],
      "execution_count": 48,
      "outputs": [
        {
          "output_type": "execute_result",
          "data": {
            "text/plain": [
              "0      0.0\n",
              "1      5.0\n",
              "2     10.0\n",
              "3     15.0\n",
              "4     20.0\n",
              "5     25.0\n",
              "6     30.0\n",
              "7     35.0\n",
              "8     40.0\n",
              "9     45.0\n",
              "10    50.0\n",
              "11    55.0\n",
              "12    60.0\n",
              "13    65.0\n",
              "14    70.0\n",
              "15    75.0\n",
              "16    80.0\n",
              "Name: x, dtype: float64"
            ]
          },
          "metadata": {
            "tags": []
          },
          "execution_count": 48
        }
      ]
    },
    {
      "cell_type": "code",
      "metadata": {
        "colab": {
          "base_uri": "https://localhost:8080/",
          "height": 445
        },
        "id": "cmtrZzJnp-5i",
        "outputId": "5b431a5b-83d2-45bb-eb7b-9f4a1145bc98"
      },
      "source": [
        "y=df.y\n",
        "\n",
        "plt.figure(figsize=(12, 7))\n",
        "plt.plot(x, y)"
      ],
      "execution_count": 49,
      "outputs": [
        {
          "output_type": "execute_result",
          "data": {
            "text/plain": [
              "[<matplotlib.lines.Line2D at 0x7fcadb4425f8>]"
            ]
          },
          "metadata": {
            "tags": []
          },
          "execution_count": 49
        },
        {
          "output_type": "display_data",
          "data": {
            "image/png": "[encoded data removed]",
            "text/plain": [
              "<Figure size 864x504 with 1 Axes>"
            ]
          },
          "metadata": {
            "tags": [],
            "needs_background": "light"
          }
        }
      ]
    },
    {
      "cell_type": "markdown",
      "metadata": {
        "id": "SIzi3uMZdh9Q"
      },
      "source": [
        "## Palabras finales\n",
        "\n",
        "¡Eso es todo! Ahora es el momento de empezar a trabajar y jugar con google colab\n",
        "Avisanos si tienes preguntas. "
      ]
    }
  ]
}